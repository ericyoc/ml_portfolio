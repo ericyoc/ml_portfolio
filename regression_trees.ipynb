{
  "nbformat": 4,
  "nbformat_minor": 0,
  "metadata": {
    "colab": {
      "provenance": [],
      "authorship_tag": "ABX9TyNrPQvOn5JXo9IfndWGXLU7",
      "include_colab_link": true
    },
    "kernelspec": {
      "name": "python3",
      "display_name": "Python 3"
    },
    "language_info": {
      "name": "python"
    }
  },
  "cells": [
    {
      "cell_type": "markdown",
      "metadata": {
        "id": "view-in-github",
        "colab_type": "text"
      },
      "source": [
        "<a href=\"https://colab.research.google.com/github/ericyoc/ml_portfolio/blob/main/regression_trees.ipynb\" target=\"_parent\"><img src=\"https://colab.research.google.com/assets/colab-badge.svg\" alt=\"Open In Colab\"/></a>"
      ]
    },
    {
      "cell_type": "code",
      "execution_count": 1,
      "metadata": {
        "id": "mf_T_AlysDmz"
      },
      "outputs": [],
      "source": [
        "#regression trees\n",
        "\n",
        "# Pandas will allow us to create a dataframe of the data\n",
        "# so it can be used and manipulated\n",
        "import pandas as pd\n",
        "# Regression Tree Algorithm\n",
        "from sklearn.tree import DecisionTreeRegressor\n",
        "# Split our data into a training and testing data\n",
        "from sklearn.model_selection import train_test_split"
      ]
    },
    {
      "cell_type": "code",
      "source": [
        "# Surpress warnings:\n",
        "def warn(*args, **kwargs):\n",
        "    pass\n",
        "import warnings\n",
        "warnings.warn = warn"
      ],
      "metadata": {
        "id": "6WmZghL4scn-"
      },
      "execution_count": 2,
      "outputs": []
    },
    {
      "cell_type": "code",
      "source": [
        "def main():\n",
        "\n",
        "    # load dataset\n",
        "    data = pd.read_csv(\"ml_data/real_estate_data.csv\")\n",
        "    print(data.head())\n",
        "\n",
        "    print(data.shape)\n",
        "    # Most of the data is valid, there are rows with missing values\n",
        "    # which we will deal with in pre-processing\n",
        "    print(data.isna().sum())\n",
        "\n",
        "    # Data pre-processing\n",
        "    data.dropna(inplace=True)\n",
        "    # dataset has no missing values\n",
        "    print(data.isna().sum())\n",
        "\n",
        "    # split the dataset into our features and what we are predicting (target)\n",
        "    X = data.drop(columns=[\"MEDV\"])\n",
        "    Y = data[\"MEDV\"]\n",
        "\n",
        "    print(X.head())\n",
        "    print(Y.head())\n",
        "\n",
        "    # split data into a training and testing dataset\n",
        "    X_train, X_test, Y_train, Y_test = train_test_split(X, Y, test_size=.2, random_state=1)\n",
        "\n",
        "    # Create regression tree\n",
        "    regression_tree = DecisionTreeRegressor(criterion='squared_error', max_depth=None, max_features=None,\n",
        "                                         max_leaf_nodes=None, min_impurity_decrease=0.0,\n",
        "                                         min_samples_leaf=1, min_samples_split=2,\n",
        "                                         min_weight_fraction_leaf=0.0, random_state=None,\n",
        "                                         splitter='best')\n",
        "\n",
        "    # training\n",
        "    regression_tree.fit(X_train, Y_train)\n",
        "\n",
        "    # Evaluation\n",
        "    regression_tree.score(X_test, Y_test)\n",
        "    prediction = regression_tree.predict(X_test)\n",
        "\n",
        "    print(\"$\",(prediction - Y_test).abs().mean()*1000)\n",
        "\n",
        "    # train regression tree using criterion mae then report is r2 value and average error\n",
        "    regression_tree = DecisionTreeRegressor(criterion='absolute_error')\n",
        "\n",
        "    regression_tree.fit(X_train, Y_train)\n",
        "\n",
        "    print(regression_tree.score(X_test, Y_test))\n",
        "\n",
        "    prediction = regression_tree.predict(X_test)\n",
        "\n",
        "    print(\"$\",(prediction - Y_test).abs().mean()*1000)"
      ],
      "metadata": {
        "id": "lYcU6y6lseM_"
      },
      "execution_count": 13,
      "outputs": []
    },
    {
      "cell_type": "code",
      "source": [
        "if __name__ == \"__main__\":\n",
        "    main()"
      ],
      "metadata": {
        "colab": {
          "base_uri": "https://localhost:8080/"
        },
        "id": "wqA8ew2zshDO",
        "outputId": "ea9ba5ea-cbbc-4b7e-9172-396883db2117"
      },
      "execution_count": 14,
      "outputs": [
        {
          "output_type": "stream",
          "name": "stdout",
          "text": [
            "      CRIM    ZN  INDUS  CHAS    NOX     RM   AGE     DIS  RAD  TAX  PTRATIO  \\\n",
            "0  0.00632  18.0   2.31   0.0  0.538  6.575  65.2  4.0900    1  296     15.3   \n",
            "1  0.02731   0.0   7.07   0.0  0.469  6.421  78.9  4.9671    2  242     17.8   \n",
            "2  0.02729   0.0   7.07   0.0  0.469  7.185  61.1  4.9671    2  242     17.8   \n",
            "3  0.03237   0.0   2.18   0.0  0.458  6.998  45.8  6.0622    3  222     18.7   \n",
            "4  0.06905   0.0   2.18   0.0  0.458  7.147  54.2  6.0622    3  222     18.7   \n",
            "\n",
            "   LSTAT  MEDV  \n",
            "0   4.98  24.0  \n",
            "1   9.14  21.6  \n",
            "2   4.03  34.7  \n",
            "3   2.94  33.4  \n",
            "4    NaN  36.2  \n",
            "(506, 13)\n",
            "CRIM       20\n",
            "ZN         20\n",
            "INDUS      20\n",
            "CHAS       20\n",
            "NOX         0\n",
            "RM          0\n",
            "AGE        20\n",
            "DIS         0\n",
            "RAD         0\n",
            "TAX         0\n",
            "PTRATIO     0\n",
            "LSTAT      20\n",
            "MEDV        0\n",
            "dtype: int64\n",
            "CRIM       0\n",
            "ZN         0\n",
            "INDUS      0\n",
            "CHAS       0\n",
            "NOX        0\n",
            "RM         0\n",
            "AGE        0\n",
            "DIS        0\n",
            "RAD        0\n",
            "TAX        0\n",
            "PTRATIO    0\n",
            "LSTAT      0\n",
            "MEDV       0\n",
            "dtype: int64\n",
            "      CRIM    ZN  INDUS  CHAS    NOX     RM   AGE     DIS  RAD  TAX  PTRATIO  \\\n",
            "0  0.00632  18.0   2.31   0.0  0.538  6.575  65.2  4.0900    1  296     15.3   \n",
            "1  0.02731   0.0   7.07   0.0  0.469  6.421  78.9  4.9671    2  242     17.8   \n",
            "2  0.02729   0.0   7.07   0.0  0.469  7.185  61.1  4.9671    2  242     17.8   \n",
            "3  0.03237   0.0   2.18   0.0  0.458  6.998  45.8  6.0622    3  222     18.7   \n",
            "5  0.02985   0.0   2.18   0.0  0.458  6.430  58.7  6.0622    3  222     18.7   \n",
            "\n",
            "   LSTAT  \n",
            "0   4.98  \n",
            "1   9.14  \n",
            "2   4.03  \n",
            "3   2.94  \n",
            "5   5.21  \n",
            "0    24.0\n",
            "1    21.6\n",
            "2    34.7\n",
            "3    33.4\n",
            "5    28.7\n",
            "Name: MEDV, dtype: float64\n",
            "$ 2739.2405063291135\n",
            "0.8749936485521158\n",
            "$ 2563.2911392405063\n"
          ]
        }
      ]
    }
  ]
}