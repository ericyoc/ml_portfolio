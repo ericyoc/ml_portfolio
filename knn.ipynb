{
  "nbformat": 4,
  "nbformat_minor": 0,
  "metadata": {
    "colab": {
      "provenance": [],
      "authorship_tag": "ABX9TyNSBKaPzfXx9JCNzGolq6Hy",
      "include_colab_link": true
    },
    "kernelspec": {
      "name": "python3",
      "display_name": "Python 3"
    },
    "language_info": {
      "name": "python"
    }
  },
  "cells": [
    {
      "cell_type": "markdown",
      "metadata": {
        "id": "view-in-github",
        "colab_type": "text"
      },
      "source": [
        "<a href=\"https://colab.research.google.com/github/ericyoc/ml_portfolio/blob/main/knn.ipynb\" target=\"_parent\"><img src=\"https://colab.research.google.com/assets/colab-badge.svg\" alt=\"Open In Colab\"/></a>"
      ]
    },
    {
      "cell_type": "code",
      "execution_count": 1,
      "metadata": {
        "id": "TL2jVkrU9tk1"
      },
      "outputs": [],
      "source": [
        "# k nearest neighbors (KNN)\n",
        "\n",
        "import numpy as np\n",
        "import matplotlib.pyplot as plt\n",
        "import pandas as pd\n",
        "import numpy as np\n",
        "from sklearn import preprocessing"
      ]
    },
    {
      "cell_type": "code",
      "source": [
        "# Surpress warnings:\n",
        "def warn(*args, **kwargs):\n",
        "    pass\n",
        "import warnings\n",
        "warnings.warn = warn"
      ],
      "metadata": {
        "id": "IM9-Ltuk9yEN"
      },
      "execution_count": 2,
      "outputs": []
    },
    {
      "cell_type": "code",
      "source": [
        "def main():\n",
        "\n",
        "    # load dataset using pandas\n",
        "    df = pd.read_csv('ml_data/teleCust1000t.csv')\n",
        "    print(df.head())\n",
        "\n",
        "    # data visiualization and analysis\n",
        "\n",
        "    print(df['custcat'].value_counts())\n",
        "\n",
        "    df.hist(column='income', bins=50)\n",
        "\n",
        "    print(df.columns)\n",
        "\n",
        "    X = df[['region', 'tenure','age', 'marital', 'address', 'income', 'ed', 'employ','retire', 'gender', 'reside']] .values  #.astype(float)\n",
        "    print(X[0:5])\n",
        "\n",
        "    # what are the labels?\n",
        "    y = df['custcat'].values\n",
        "    print(y[0:5])\n",
        "\n",
        "    # Normalize data\n",
        "    X = preprocessing.StandardScaler().fit(X).transform(X.astype(float))\n",
        "    print(X[0:5])\n",
        "\n",
        "    # train / test split\n",
        "    from sklearn.model_selection import train_test_split\n",
        "    X_train, X_test, y_train, y_test = train_test_split( X, y, test_size=0.2, random_state=4)\n",
        "    print('Train set:', X_train.shape,  y_train.shape)\n",
        "    print('Test set:', X_test.shape,  y_test.shape)\n",
        "\n",
        "    # classification\n",
        "    # k nearest neighbor (KNN)\n",
        "    from sklearn.neighbors import KNeighborsClassifier\n",
        "\n",
        "    # training\n",
        "    k = 4\n",
        "    #Train Model and Predict\n",
        "    neigh = KNeighborsClassifier(n_neighbors = k).fit(X_train,y_train)\n",
        "    print(neigh)\n",
        "\n",
        "    # predicting\n",
        "    yhat = neigh.predict(X_test)\n",
        "    print(yhat[0:5])\n",
        "\n",
        "    # accuracy evaluation\n",
        "    from sklearn import metrics\n",
        "    print(\"Train set Accuracy: \", metrics.accuracy_score(y_train, neigh.predict(X_train)))\n",
        "    print(\"Test set Accuracy: \", metrics.accuracy_score(y_test, yhat))\n",
        "\n",
        "    # build model with k=6\n",
        "    k = 6\n",
        "    neigh6 = KNeighborsClassifier(n_neighbors = k).fit(X_train,y_train)\n",
        "    yhat6 = neigh6.predict(X_test)\n",
        "    print(\"Train set Accuracy: \", metrics.accuracy_score(y_train, neigh6.predict(X_train)))\n",
        "    print(\"Test set Accuracy: \", metrics.accuracy_score(y_test, yhat6))\n",
        "\n",
        "    # calculate the accuracy of KNN for different values of k.\n",
        "    Ks = 10\n",
        "    mean_acc = np.zeros((Ks-1))\n",
        "    std_acc = np.zeros((Ks-1))\n",
        "\n",
        "    for n in range(1,Ks):\n",
        "\n",
        "        #Train Model and Predict\n",
        "        neigh = KNeighborsClassifier(n_neighbors = n).fit(X_train,y_train)\n",
        "        yhat=neigh.predict(X_test)\n",
        "        mean_acc[n-1] = metrics.accuracy_score(y_test, yhat)\n",
        "\n",
        "        std_acc[n-1]=np.std(yhat==y_test)/np.sqrt(yhat.shape[0])\n",
        "\n",
        "    print(mean_acc)\n",
        "    print(std_acc)\n",
        "\n",
        "    # plot model accuracy for different numbers of neighbors\n",
        "    plt.plot(range(1,Ks),mean_acc,'g')\n",
        "    plt.fill_between(range(1,Ks),mean_acc - 1 * std_acc,mean_acc + 1 * std_acc, alpha=0.10)\n",
        "    plt.fill_between(range(1,Ks),mean_acc - 3 * std_acc,mean_acc + 3 * std_acc, alpha=0.10,color=\"green\")\n",
        "    plt.legend(('Accuracy ', '+/- 1xstd','+/- 3xstd'))\n",
        "    plt.ylabel('Accuracy ')\n",
        "    plt.xlabel('Number of Neighbors (K)')\n",
        "    plt.tight_layout()\n",
        "    plt.show()\n",
        "\n",
        "    print( \"The best accuracy was with\", mean_acc.max(), \"with k=\", mean_acc.argmax()+1)\n"
      ],
      "metadata": {
        "id": "yi5otmhX9zw7"
      },
      "execution_count": 3,
      "outputs": []
    },
    {
      "cell_type": "code",
      "source": [
        "if __name__ == \"__main__\":\n",
        "    main()"
      ],
      "metadata": {
        "colab": {
          "base_uri": "https://localhost:8080/",
          "height": 1000
        },
        "id": "OIiegVaK-KsX",
        "outputId": "3051ba98-cd87-4e35-e08b-4b8bed1a2c35"
      },
      "execution_count": 4,
      "outputs": [
        {
          "output_type": "stream",
          "name": "stdout",
          "text": [
            "   region  tenure  age  marital  address  income  ed  employ  retire  gender  \\\n",
            "0       2      13   44        1        9    64.0   4       5     0.0       0   \n",
            "1       3      11   33        1        7   136.0   5       5     0.0       0   \n",
            "2       3      68   52        1       24   116.0   1      29     0.0       1   \n",
            "3       2      33   33        0       12    33.0   2       0     0.0       1   \n",
            "4       2      23   30        1        9    30.0   1       2     0.0       0   \n",
            "\n",
            "   reside  custcat  \n",
            "0       2        1  \n",
            "1       6        4  \n",
            "2       2        3  \n",
            "3       1        1  \n",
            "4       4        3  \n",
            "3    281\n",
            "1    266\n",
            "4    236\n",
            "2    217\n",
            "Name: custcat, dtype: int64\n",
            "Index(['region', 'tenure', 'age', 'marital', 'address', 'income', 'ed',\n",
            "       'employ', 'retire', 'gender', 'reside', 'custcat'],\n",
            "      dtype='object')\n",
            "[[  2.  13.  44.   1.   9.  64.   4.   5.   0.   0.   2.]\n",
            " [  3.  11.  33.   1.   7. 136.   5.   5.   0.   0.   6.]\n",
            " [  3.  68.  52.   1.  24. 116.   1.  29.   0.   1.   2.]\n",
            " [  2.  33.  33.   0.  12.  33.   2.   0.   0.   1.   1.]\n",
            " [  2.  23.  30.   1.   9.  30.   1.   2.   0.   0.   4.]]\n",
            "[1 4 3 1 3]\n",
            "[[-0.02696767 -1.055125    0.18450456  1.0100505  -0.25303431 -0.12650641\n",
            "   1.0877526  -0.5941226  -0.22207644 -1.03459817 -0.23065004]\n",
            " [ 1.19883553 -1.14880563 -0.69181243  1.0100505  -0.4514148   0.54644972\n",
            "   1.9062271  -0.5941226  -0.22207644 -1.03459817  2.55666158]\n",
            " [ 1.19883553  1.52109247  0.82182601  1.0100505   1.23481934  0.35951747\n",
            "  -1.36767088  1.78752803 -0.22207644  0.96655883 -0.23065004]\n",
            " [-0.02696767 -0.11831864 -0.69181243 -0.9900495   0.04453642 -0.41625141\n",
            "  -0.54919639 -1.09029981 -0.22207644  0.96655883 -0.92747794]\n",
            " [-0.02696767 -0.58672182 -0.93080797  1.0100505  -0.25303431 -0.44429125\n",
            "  -1.36767088 -0.89182893 -0.22207644 -1.03459817  1.16300577]]\n",
            "Train set: (800, 11) (800,)\n",
            "Test set: (200, 11) (200,)\n",
            "KNeighborsClassifier(n_neighbors=4)\n",
            "[1 1 3 2 4]\n",
            "Train set Accuracy:  0.5475\n",
            "Test set Accuracy:  0.32\n",
            "Train set Accuracy:  0.51625\n",
            "Test set Accuracy:  0.31\n",
            "[0.3   0.29  0.315 0.32  0.315 0.31  0.335 0.325 0.34 ]\n",
            "[0.0324037  0.03208582 0.03284623 0.03298485 0.03284623 0.03270321\n",
            " 0.03337477 0.0331191  0.03349627]\n"
          ]
        },
        {
          "output_type": "display_data",
          "data": {
            "text/plain": [
              "<Figure size 640x480 with 1 Axes>"
            ],
            "image/png": "[encoded data removed]"
          },
          "metadata": {}
        },
        {
          "output_type": "stream",
          "name": "stdout",
          "text": [
            "The best accuracy was with 0.34 with k= 9\n"
          ]
        }
      ]
    }
  ]
}